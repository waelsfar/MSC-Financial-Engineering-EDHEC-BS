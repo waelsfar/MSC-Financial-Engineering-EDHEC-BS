{
 "cells": [
  {
   "cell_type": "markdown",
   "id": "a896110b-1edb-46ab-99f9-c612e34d747b",
   "metadata": {
    "tags": []
   },
   "source": [
    "# Assignment 2"
   ]
  },
  {
   "cell_type": "markdown",
   "id": "91a732a7-2492-448f-8ec7-01bb0a11b61f",
   "metadata": {
    "tags": []
   },
   "source": [
    "# Question 1:\n",
    "- Download daily stock prices for FAANG stocks (Facebook/Meta, Amazon, Apple, Netflix, Google/Alphabet) from January 2015 until December 2020. Note that the ticker symbols for the five stocks are: META, AMZN, AAPL, NFLX, and GOOG."
   ]
  },
  {
   "cell_type": "code",
   "execution_count": 1,
   "id": "2bda9a90-3c11-417a-840a-5fe764a2442e",
   "metadata": {},
   "outputs": [],
   "source": [
    "import yfinance as yf\n",
    "import pandas as pd\n",
    "import numpy as np\n",
    "import matplotlib.pyplot as plt\n",
    "import seaborn as sns"
   ]
  },
  {
   "cell_type": "code",
   "execution_count": 2,
   "id": "cf5ef3b2-2d09-4fd8-abcc-6537c8ba82d2",
   "metadata": {},
   "outputs": [
    {
     "data": {
      "text/html": [
       "<div>\n",
       "<style scoped>\n",
       "    .dataframe tbody tr th:only-of-type {\n",
       "        vertical-align: middle;\n",
       "    }\n",
       "\n",
       "    .dataframe tbody tr th {\n",
       "        vertical-align: top;\n",
       "    }\n",
       "\n",
       "    .dataframe thead th {\n",
       "        text-align: right;\n",
       "    }\n",
       "</style>\n",
       "<table border=\"1\" class=\"dataframe\">\n",
       "  <thead>\n",
       "    <tr style=\"text-align: right;\">\n",
       "      <th>variable</th>\n",
       "      <th>date</th>\n",
       "      <th>symbol</th>\n",
       "      <th>adjusted</th>\n",
       "      <th>close</th>\n",
       "      <th>high</th>\n",
       "      <th>low</th>\n",
       "      <th>open</th>\n",
       "      <th>volume</th>\n",
       "    </tr>\n",
       "  </thead>\n",
       "  <tbody>\n",
       "    <tr>\n",
       "      <th>0</th>\n",
       "      <td>2015-01-02</td>\n",
       "      <td>AAPL</td>\n",
       "      <td>24.466450</td>\n",
       "      <td>27.332500</td>\n",
       "      <td>27.860001</td>\n",
       "      <td>26.837500</td>\n",
       "      <td>27.847500</td>\n",
       "      <td>212818400.0</td>\n",
       "    </tr>\n",
       "    <tr>\n",
       "      <th>1</th>\n",
       "      <td>2015-01-02</td>\n",
       "      <td>AMZN</td>\n",
       "      <td>15.426000</td>\n",
       "      <td>15.426000</td>\n",
       "      <td>15.737500</td>\n",
       "      <td>15.348000</td>\n",
       "      <td>15.629000</td>\n",
       "      <td>55664000.0</td>\n",
       "    </tr>\n",
       "    <tr>\n",
       "      <th>2</th>\n",
       "      <td>2015-01-02</td>\n",
       "      <td>GOOG</td>\n",
       "      <td>26.168653</td>\n",
       "      <td>26.168653</td>\n",
       "      <td>26.490770</td>\n",
       "      <td>26.133251</td>\n",
       "      <td>26.378078</td>\n",
       "      <td>28951268.0</td>\n",
       "    </tr>\n",
       "    <tr>\n",
       "      <th>3</th>\n",
       "      <td>2015-01-02</td>\n",
       "      <td>META</td>\n",
       "      <td>78.449997</td>\n",
       "      <td>78.449997</td>\n",
       "      <td>78.930000</td>\n",
       "      <td>77.699997</td>\n",
       "      <td>78.580002</td>\n",
       "      <td>18177500.0</td>\n",
       "    </tr>\n",
       "    <tr>\n",
       "      <th>4</th>\n",
       "      <td>2015-01-02</td>\n",
       "      <td>NFLX</td>\n",
       "      <td>49.848572</td>\n",
       "      <td>49.848572</td>\n",
       "      <td>50.331429</td>\n",
       "      <td>48.731430</td>\n",
       "      <td>49.151428</td>\n",
       "      <td>13475000.0</td>\n",
       "    </tr>\n",
       "    <tr>\n",
       "      <th>...</th>\n",
       "      <td>...</td>\n",
       "      <td>...</td>\n",
       "      <td>...</td>\n",
       "      <td>...</td>\n",
       "      <td>...</td>\n",
       "      <td>...</td>\n",
       "      <td>...</td>\n",
       "      <td>...</td>\n",
       "    </tr>\n",
       "    <tr>\n",
       "      <th>7545</th>\n",
       "      <td>2020-12-30</td>\n",
       "      <td>AAPL</td>\n",
       "      <td>131.399368</td>\n",
       "      <td>133.720001</td>\n",
       "      <td>135.990005</td>\n",
       "      <td>133.399994</td>\n",
       "      <td>135.580002</td>\n",
       "      <td>96452100.0</td>\n",
       "    </tr>\n",
       "    <tr>\n",
       "      <th>7546</th>\n",
       "      <td>2020-12-30</td>\n",
       "      <td>AMZN</td>\n",
       "      <td>164.292496</td>\n",
       "      <td>164.292496</td>\n",
       "      <td>167.104996</td>\n",
       "      <td>164.123505</td>\n",
       "      <td>167.050003</td>\n",
       "      <td>64186000.0</td>\n",
       "    </tr>\n",
       "    <tr>\n",
       "      <th>7547</th>\n",
       "      <td>2020-12-30</td>\n",
       "      <td>GOOG</td>\n",
       "      <td>86.975998</td>\n",
       "      <td>86.975998</td>\n",
       "      <td>88.254753</td>\n",
       "      <td>86.279999</td>\n",
       "      <td>88.100502</td>\n",
       "      <td>26122000.0</td>\n",
       "    </tr>\n",
       "    <tr>\n",
       "      <th>7548</th>\n",
       "      <td>2020-12-30</td>\n",
       "      <td>META</td>\n",
       "      <td>271.869995</td>\n",
       "      <td>271.869995</td>\n",
       "      <td>278.079987</td>\n",
       "      <td>271.709991</td>\n",
       "      <td>277.950012</td>\n",
       "      <td>11803800.0</td>\n",
       "    </tr>\n",
       "    <tr>\n",
       "      <th>7549</th>\n",
       "      <td>2020-12-30</td>\n",
       "      <td>NFLX</td>\n",
       "      <td>524.590027</td>\n",
       "      <td>524.590027</td>\n",
       "      <td>533.260010</td>\n",
       "      <td>523.690002</td>\n",
       "      <td>530.130005</td>\n",
       "      <td>1876300.0</td>\n",
       "    </tr>\n",
       "  </tbody>\n",
       "</table>\n",
       "<p>7550 rows × 8 columns</p>\n",
       "</div>"
      ],
      "text/plain": [
       "variable       date symbol    adjusted       close        high         low  \\\n",
       "0        2015-01-02   AAPL   24.466450   27.332500   27.860001   26.837500   \n",
       "1        2015-01-02   AMZN   15.426000   15.426000   15.737500   15.348000   \n",
       "2        2015-01-02   GOOG   26.168653   26.168653   26.490770   26.133251   \n",
       "3        2015-01-02   META   78.449997   78.449997   78.930000   77.699997   \n",
       "4        2015-01-02   NFLX   49.848572   49.848572   50.331429   48.731430   \n",
       "...             ...    ...         ...         ...         ...         ...   \n",
       "7545     2020-12-30   AAPL  131.399368  133.720001  135.990005  133.399994   \n",
       "7546     2020-12-30   AMZN  164.292496  164.292496  167.104996  164.123505   \n",
       "7547     2020-12-30   GOOG   86.975998   86.975998   88.254753   86.279999   \n",
       "7548     2020-12-30   META  271.869995  271.869995  278.079987  271.709991   \n",
       "7549     2020-12-30   NFLX  524.590027  524.590027  533.260010  523.690002   \n",
       "\n",
       "variable        open       volume  \n",
       "0          27.847500  212818400.0  \n",
       "1          15.629000   55664000.0  \n",
       "2          26.378078   28951268.0  \n",
       "3          78.580002   18177500.0  \n",
       "4          49.151428   13475000.0  \n",
       "...              ...          ...  \n",
       "7545      135.580002   96452100.0  \n",
       "7546      167.050003   64186000.0  \n",
       "7547       88.100502   26122000.0  \n",
       "7548      277.950012   11803800.0  \n",
       "7549      530.130005    1876300.0  \n",
       "\n",
       "[7550 rows x 8 columns]"
      ]
     },
     "execution_count": 2,
     "metadata": {},
     "output_type": "execute_result"
    }
   ],
   "source": [
    "stocks_list=['META', 'AMZN', 'AAPL', 'NFLX', 'GOOG']\n",
    "# We import the data provided by Yahoo Finance\n",
    "\n",
    "stocks_prices = (yf.download(tickers=stocks_list, \n",
    "                            start=\"2015-01-01\",\n",
    "                            end=\"2020-12-31\",\n",
    "                            progress=False)\n",
    "  .melt(ignore_index=False, \n",
    "        var_name=[\"variable\", \"symbol\"])\n",
    "  .reset_index()\n",
    "  .pivot(index=[\"Date\", \"symbol\"], \n",
    "         columns=\"variable\", \n",
    "         values=\"value\")\n",
    "  .reset_index()\n",
    "  .rename(columns = {\"Date\": \"date\", \n",
    "                     \"Open\": \"open\", \n",
    "                     \"High\": \"high\", \n",
    "                     \"Low\": \"low\",\n",
    "                     \"Close\": \"close\", \n",
    "                     \"Adj Close\": \"adjusted\", \n",
    "                     \"Volume\": \"volume\",\n",
    "                     \"Sector\": \"sector\"\n",
    "                    })\n",
    ")\n",
    "stocks_prices\n"
   ]
  },
  {
   "cell_type": "markdown",
   "id": "9702f947-0309-43a0-aaae-e20f38fe9eec",
   "metadata": {},
   "source": [
    "# Question 2\n",
    "- Compute the first and second moments of stock returns for each of these stocks (i.e., their means, variances, and covariances)."
   ]
  },
  {
   "cell_type": "code",
   "execution_count": 23,
   "id": "17990b1a-6d8c-4056-8d20-9037c8f613f8",
   "metadata": {
    "tags": []
   },
   "outputs": [
    {
     "data": {
      "text/html": [
       "<div>\n",
       "<style scoped>\n",
       "    .dataframe tbody tr th:only-of-type {\n",
       "        vertical-align: middle;\n",
       "    }\n",
       "\n",
       "    .dataframe tbody tr th {\n",
       "        vertical-align: top;\n",
       "    }\n",
       "\n",
       "    .dataframe thead th {\n",
       "        text-align: right;\n",
       "    }\n",
       "</style>\n",
       "<table border=\"1\" class=\"dataframe\">\n",
       "  <thead>\n",
       "    <tr style=\"text-align: right;\">\n",
       "      <th>variable</th>\n",
       "      <th>symbol</th>\n",
       "      <th>date</th>\n",
       "      <th>ret</th>\n",
       "    </tr>\n",
       "  </thead>\n",
       "  <tbody>\n",
       "    <tr>\n",
       "      <th>5</th>\n",
       "      <td>AAPL</td>\n",
       "      <td>2015-01-05</td>\n",
       "      <td>-0.028172</td>\n",
       "    </tr>\n",
       "    <tr>\n",
       "      <th>6</th>\n",
       "      <td>AMZN</td>\n",
       "      <td>2015-01-05</td>\n",
       "      <td>-0.020517</td>\n",
       "    </tr>\n",
       "    <tr>\n",
       "      <th>7</th>\n",
       "      <td>GOOG</td>\n",
       "      <td>2015-01-05</td>\n",
       "      <td>-0.020846</td>\n",
       "    </tr>\n",
       "    <tr>\n",
       "      <th>8</th>\n",
       "      <td>META</td>\n",
       "      <td>2015-01-05</td>\n",
       "      <td>-0.016061</td>\n",
       "    </tr>\n",
       "    <tr>\n",
       "      <th>9</th>\n",
       "      <td>NFLX</td>\n",
       "      <td>2015-01-05</td>\n",
       "      <td>-0.050897</td>\n",
       "    </tr>\n",
       "    <tr>\n",
       "      <th>...</th>\n",
       "      <td>...</td>\n",
       "      <td>...</td>\n",
       "      <td>...</td>\n",
       "    </tr>\n",
       "    <tr>\n",
       "      <th>7545</th>\n",
       "      <td>AAPL</td>\n",
       "      <td>2020-12-30</td>\n",
       "      <td>-0.008527</td>\n",
       "    </tr>\n",
       "    <tr>\n",
       "      <th>7546</th>\n",
       "      <td>AMZN</td>\n",
       "      <td>2020-12-30</td>\n",
       "      <td>-0.010882</td>\n",
       "    </tr>\n",
       "    <tr>\n",
       "      <th>7547</th>\n",
       "      <td>GOOG</td>\n",
       "      <td>2020-12-30</td>\n",
       "      <td>-0.010917</td>\n",
       "    </tr>\n",
       "    <tr>\n",
       "      <th>7548</th>\n",
       "      <td>META</td>\n",
       "      <td>2020-12-30</td>\n",
       "      <td>-0.017740</td>\n",
       "    </tr>\n",
       "    <tr>\n",
       "      <th>7549</th>\n",
       "      <td>NFLX</td>\n",
       "      <td>2020-12-30</td>\n",
       "      <td>-0.011830</td>\n",
       "    </tr>\n",
       "  </tbody>\n",
       "</table>\n",
       "<p>7545 rows × 3 columns</p>\n",
       "</div>"
      ],
      "text/plain": [
       "variable symbol       date       ret\n",
       "5          AAPL 2015-01-05 -0.028172\n",
       "6          AMZN 2015-01-05 -0.020517\n",
       "7          GOOG 2015-01-05 -0.020846\n",
       "8          META 2015-01-05 -0.016061\n",
       "9          NFLX 2015-01-05 -0.050897\n",
       "...         ...        ...       ...\n",
       "7545       AAPL 2020-12-30 -0.008527\n",
       "7546       AMZN 2020-12-30 -0.010882\n",
       "7547       GOOG 2020-12-30 -0.010917\n",
       "7548       META 2020-12-30 -0.017740\n",
       "7549       NFLX 2020-12-30 -0.011830\n",
       "\n",
       "[7545 rows x 3 columns]"
      ]
     },
     "execution_count": 23,
     "metadata": {},
     "output_type": "execute_result"
    }
   ],
   "source": [
    "# We calculate the return for each date\n",
    "stocks_returns= (stocks_prices\n",
    "  .assign(ret = lambda x: x.groupby(\"symbol\")[\"adjusted\"].pct_change())\n",
    "  .get([\"symbol\", \"date\", \"ret\"])\n",
    "  .dropna(subset=\"ret\")\n",
    ")\n",
    "stocks_returns"
   ]
  },
  {
   "cell_type": "code",
   "execution_count": 24,
   "id": "36ee294e-880c-4c2e-b995-9da55da30382",
   "metadata": {
    "tags": []
   },
   "outputs": [
    {
     "data": {
      "text/plain": [
       "[0.0012889879338425442,\n",
       " 0.0017574773329859508,\n",
       " 0.0009393592795527066,\n",
       " 0.0010266039289622175,\n",
       " 0.0019144372877222492]"
      ]
     },
     "execution_count": 24,
     "metadata": {},
     "output_type": "execute_result"
    }
   ],
   "source": [
    "# Mean\n",
    "L_mean=list(stocks_returns\n",
    "  .groupby(\"symbol\")[\"ret\"].mean())\n",
    "L_mean"
   ]
  },
  {
   "cell_type": "code",
   "execution_count": 25,
   "id": "3bfa6be8-c64c-4625-9f8e-8ed2747a2f34",
   "metadata": {
    "tags": []
   },
   "outputs": [
    {
     "data": {
      "text/plain": [
       "[0.018671264861784526,\n",
       " 0.019524043655503625,\n",
       " 0.016965887617476253,\n",
       " 0.020073099144173916,\n",
       " 0.02674184633093922]"
      ]
     },
     "execution_count": 25,
     "metadata": {},
     "output_type": "execute_result"
    }
   ],
   "source": [
    "# STD\n",
    "L_std=list(stocks_returns\n",
    "  .groupby(\"symbol\")[\"ret\"].std())\n",
    "L_std"
   ]
  },
  {
   "cell_type": "code",
   "execution_count": 26,
   "id": "7bcdbb68-74d5-4eee-a496-24b06c33b0d2",
   "metadata": {
    "tags": []
   },
   "outputs": [
    {
     "data": {
      "text/plain": [
       "[0.00034861613153890954,\n",
       " 0.00038118828066201134,\n",
       " 0.00028784134264883405,\n",
       " 0.0004029293092518356,\n",
       " 0.0007151263451875674]"
      ]
     },
     "execution_count": 26,
     "metadata": {},
     "output_type": "execute_result"
    }
   ],
   "source": [
    "# Variance\n",
    "L_variance=list((stocks_returns\n",
    "  .groupby(\"symbol\")[\"ret\"].std())**2)\n",
    "L_variance"
   ]
  },
  {
   "cell_type": "code",
   "execution_count": 27,
   "id": "e04980a1-1ab1-4d2f-ae06-001815ddf684",
   "metadata": {
    "tags": []
   },
   "outputs": [],
   "source": [
    "# We create a dataframe to stock the data\n",
    "df_result=pd.DataFrame()\n",
    "df_result['Symbol']=stocks_returns['symbol'].unique()\n",
    "df_result['Mean']= L_mean\n",
    "df_result['STD']= L_std\n",
    "df_result['Variance']= L_variance"
   ]
  },
  {
   "cell_type": "code",
   "execution_count": 28,
   "id": "e2721647-4cb2-4ff5-80cf-a2275b8c8ed6",
   "metadata": {
    "tags": []
   },
   "outputs": [
    {
     "data": {
      "text/html": [
       "<div>\n",
       "<style scoped>\n",
       "    .dataframe tbody tr th:only-of-type {\n",
       "        vertical-align: middle;\n",
       "    }\n",
       "\n",
       "    .dataframe tbody tr th {\n",
       "        vertical-align: top;\n",
       "    }\n",
       "\n",
       "    .dataframe thead th {\n",
       "        text-align: right;\n",
       "    }\n",
       "</style>\n",
       "<table border=\"1\" class=\"dataframe\">\n",
       "  <thead>\n",
       "    <tr style=\"text-align: right;\">\n",
       "      <th></th>\n",
       "      <th>Symbol</th>\n",
       "      <th>Mean</th>\n",
       "      <th>STD</th>\n",
       "      <th>Variance</th>\n",
       "    </tr>\n",
       "  </thead>\n",
       "  <tbody>\n",
       "    <tr>\n",
       "      <th>0</th>\n",
       "      <td>AAPL</td>\n",
       "      <td>0.001289</td>\n",
       "      <td>0.018671</td>\n",
       "      <td>0.000349</td>\n",
       "    </tr>\n",
       "    <tr>\n",
       "      <th>1</th>\n",
       "      <td>AMZN</td>\n",
       "      <td>0.001757</td>\n",
       "      <td>0.019524</td>\n",
       "      <td>0.000381</td>\n",
       "    </tr>\n",
       "    <tr>\n",
       "      <th>2</th>\n",
       "      <td>GOOG</td>\n",
       "      <td>0.000939</td>\n",
       "      <td>0.016966</td>\n",
       "      <td>0.000288</td>\n",
       "    </tr>\n",
       "    <tr>\n",
       "      <th>3</th>\n",
       "      <td>META</td>\n",
       "      <td>0.001027</td>\n",
       "      <td>0.020073</td>\n",
       "      <td>0.000403</td>\n",
       "    </tr>\n",
       "    <tr>\n",
       "      <th>4</th>\n",
       "      <td>NFLX</td>\n",
       "      <td>0.001914</td>\n",
       "      <td>0.026742</td>\n",
       "      <td>0.000715</td>\n",
       "    </tr>\n",
       "  </tbody>\n",
       "</table>\n",
       "</div>"
      ],
      "text/plain": [
       "  Symbol      Mean       STD  Variance\n",
       "0   AAPL  0.001289  0.018671  0.000349\n",
       "1   AMZN  0.001757  0.019524  0.000381\n",
       "2   GOOG  0.000939  0.016966  0.000288\n",
       "3   META  0.001027  0.020073  0.000403\n",
       "4   NFLX  0.001914  0.026742  0.000715"
      ]
     },
     "execution_count": 28,
     "metadata": {},
     "output_type": "execute_result"
    }
   ],
   "source": [
    "df_result"
   ]
  },
  {
   "cell_type": "code",
   "execution_count": 29,
   "id": "6010d3ef-6ec2-49d6-99e7-75556d7c6ee7",
   "metadata": {
    "tags": []
   },
   "outputs": [],
   "source": [
    "pivot_data = stocks_returns.pivot(index='date', columns='symbol', values='ret')"
   ]
  },
  {
   "cell_type": "code",
   "execution_count": 30,
   "id": "809c4839-85cf-404f-93f7-3e9a426d3e16",
   "metadata": {
    "tags": []
   },
   "outputs": [
    {
     "data": {
      "text/html": [
       "<div>\n",
       "<style scoped>\n",
       "    .dataframe tbody tr th:only-of-type {\n",
       "        vertical-align: middle;\n",
       "    }\n",
       "\n",
       "    .dataframe tbody tr th {\n",
       "        vertical-align: top;\n",
       "    }\n",
       "\n",
       "    .dataframe thead th {\n",
       "        text-align: right;\n",
       "    }\n",
       "</style>\n",
       "<table border=\"1\" class=\"dataframe\">\n",
       "  <thead>\n",
       "    <tr style=\"text-align: right;\">\n",
       "      <th>symbol</th>\n",
       "      <th>AAPL</th>\n",
       "      <th>AMZN</th>\n",
       "      <th>GOOG</th>\n",
       "      <th>META</th>\n",
       "      <th>NFLX</th>\n",
       "    </tr>\n",
       "    <tr>\n",
       "      <th>date</th>\n",
       "      <th></th>\n",
       "      <th></th>\n",
       "      <th></th>\n",
       "      <th></th>\n",
       "      <th></th>\n",
       "    </tr>\n",
       "  </thead>\n",
       "  <tbody>\n",
       "    <tr>\n",
       "      <th>2015-01-05</th>\n",
       "      <td>-0.028172</td>\n",
       "      <td>-0.020517</td>\n",
       "      <td>-0.020846</td>\n",
       "      <td>-0.016061</td>\n",
       "      <td>-0.050897</td>\n",
       "    </tr>\n",
       "    <tr>\n",
       "      <th>2015-01-06</th>\n",
       "      <td>0.000094</td>\n",
       "      <td>-0.022833</td>\n",
       "      <td>-0.023177</td>\n",
       "      <td>-0.013473</td>\n",
       "      <td>-0.017121</td>\n",
       "    </tr>\n",
       "    <tr>\n",
       "      <th>2015-01-07</th>\n",
       "      <td>0.014022</td>\n",
       "      <td>0.010600</td>\n",
       "      <td>-0.001713</td>\n",
       "      <td>0.000000</td>\n",
       "      <td>0.005192</td>\n",
       "    </tr>\n",
       "    <tr>\n",
       "      <th>2015-01-08</th>\n",
       "      <td>0.038422</td>\n",
       "      <td>0.006836</td>\n",
       "      <td>0.003153</td>\n",
       "      <td>0.026658</td>\n",
       "      <td>0.022188</td>\n",
       "    </tr>\n",
       "    <tr>\n",
       "      <th>2015-01-09</th>\n",
       "      <td>0.001072</td>\n",
       "      <td>-0.011749</td>\n",
       "      <td>-0.012951</td>\n",
       "      <td>-0.005628</td>\n",
       "      <td>-0.015458</td>\n",
       "    </tr>\n",
       "    <tr>\n",
       "      <th>...</th>\n",
       "      <td>...</td>\n",
       "      <td>...</td>\n",
       "      <td>...</td>\n",
       "      <td>...</td>\n",
       "      <td>...</td>\n",
       "    </tr>\n",
       "    <tr>\n",
       "      <th>2020-12-23</th>\n",
       "      <td>-0.006976</td>\n",
       "      <td>-0.006627</td>\n",
       "      <td>0.005152</td>\n",
       "      <td>0.003819</td>\n",
       "      <td>-0.024368</td>\n",
       "    </tr>\n",
       "    <tr>\n",
       "      <th>2020-12-24</th>\n",
       "      <td>0.007712</td>\n",
       "      <td>-0.003949</td>\n",
       "      <td>0.003735</td>\n",
       "      <td>-0.002648</td>\n",
       "      <td>-0.000991</td>\n",
       "    </tr>\n",
       "    <tr>\n",
       "      <th>2020-12-28</th>\n",
       "      <td>0.035766</td>\n",
       "      <td>0.035071</td>\n",
       "      <td>0.021416</td>\n",
       "      <td>0.035901</td>\n",
       "      <td>0.010020</td>\n",
       "    </tr>\n",
       "    <tr>\n",
       "      <th>2020-12-29</th>\n",
       "      <td>-0.013315</td>\n",
       "      <td>0.011584</td>\n",
       "      <td>-0.009780</td>\n",
       "      <td>-0.000794</td>\n",
       "      <td>0.022634</td>\n",
       "    </tr>\n",
       "    <tr>\n",
       "      <th>2020-12-30</th>\n",
       "      <td>-0.008527</td>\n",
       "      <td>-0.010882</td>\n",
       "      <td>-0.010917</td>\n",
       "      <td>-0.017740</td>\n",
       "      <td>-0.011830</td>\n",
       "    </tr>\n",
       "  </tbody>\n",
       "</table>\n",
       "<p>1509 rows × 5 columns</p>\n",
       "</div>"
      ],
      "text/plain": [
       "symbol          AAPL      AMZN      GOOG      META      NFLX\n",
       "date                                                        \n",
       "2015-01-05 -0.028172 -0.020517 -0.020846 -0.016061 -0.050897\n",
       "2015-01-06  0.000094 -0.022833 -0.023177 -0.013473 -0.017121\n",
       "2015-01-07  0.014022  0.010600 -0.001713  0.000000  0.005192\n",
       "2015-01-08  0.038422  0.006836  0.003153  0.026658  0.022188\n",
       "2015-01-09  0.001072 -0.011749 -0.012951 -0.005628 -0.015458\n",
       "...              ...       ...       ...       ...       ...\n",
       "2020-12-23 -0.006976 -0.006627  0.005152  0.003819 -0.024368\n",
       "2020-12-24  0.007712 -0.003949  0.003735 -0.002648 -0.000991\n",
       "2020-12-28  0.035766  0.035071  0.021416  0.035901  0.010020\n",
       "2020-12-29 -0.013315  0.011584 -0.009780 -0.000794  0.022634\n",
       "2020-12-30 -0.008527 -0.010882 -0.010917 -0.017740 -0.011830\n",
       "\n",
       "[1509 rows x 5 columns]"
      ]
     },
     "execution_count": 30,
     "metadata": {},
     "output_type": "execute_result"
    }
   ],
   "source": [
    "pivot_data"
   ]
  },
  {
   "cell_type": "code",
   "execution_count": 31,
   "id": "329c295c-8b3b-40e3-be76-9673435237cd",
   "metadata": {
    "tags": []
   },
   "outputs": [
    {
     "data": {
      "text/html": [
       "<div>\n",
       "<style scoped>\n",
       "    .dataframe tbody tr th:only-of-type {\n",
       "        vertical-align: middle;\n",
       "    }\n",
       "\n",
       "    .dataframe tbody tr th {\n",
       "        vertical-align: top;\n",
       "    }\n",
       "\n",
       "    .dataframe thead th {\n",
       "        text-align: right;\n",
       "    }\n",
       "</style>\n",
       "<table border=\"1\" class=\"dataframe\">\n",
       "  <thead>\n",
       "    <tr style=\"text-align: right;\">\n",
       "      <th>symbol</th>\n",
       "      <th>AAPL</th>\n",
       "      <th>AMZN</th>\n",
       "      <th>GOOG</th>\n",
       "      <th>META</th>\n",
       "      <th>NFLX</th>\n",
       "    </tr>\n",
       "    <tr>\n",
       "      <th>symbol</th>\n",
       "      <th></th>\n",
       "      <th></th>\n",
       "      <th></th>\n",
       "      <th></th>\n",
       "      <th></th>\n",
       "    </tr>\n",
       "  </thead>\n",
       "  <tbody>\n",
       "    <tr>\n",
       "      <th>AAPL</th>\n",
       "      <td>0.000349</td>\n",
       "      <td>0.000202</td>\n",
       "      <td>0.000192</td>\n",
       "      <td>0.000216</td>\n",
       "      <td>0.000206</td>\n",
       "    </tr>\n",
       "    <tr>\n",
       "      <th>AMZN</th>\n",
       "      <td>0.000202</td>\n",
       "      <td>0.000381</td>\n",
       "      <td>0.000216</td>\n",
       "      <td>0.000235</td>\n",
       "      <td>0.000275</td>\n",
       "    </tr>\n",
       "    <tr>\n",
       "      <th>GOOG</th>\n",
       "      <td>0.000192</td>\n",
       "      <td>0.000216</td>\n",
       "      <td>0.000288</td>\n",
       "      <td>0.000228</td>\n",
       "      <td>0.000216</td>\n",
       "    </tr>\n",
       "    <tr>\n",
       "      <th>META</th>\n",
       "      <td>0.000216</td>\n",
       "      <td>0.000235</td>\n",
       "      <td>0.000228</td>\n",
       "      <td>0.000403</td>\n",
       "      <td>0.000238</td>\n",
       "    </tr>\n",
       "    <tr>\n",
       "      <th>NFLX</th>\n",
       "      <td>0.000206</td>\n",
       "      <td>0.000275</td>\n",
       "      <td>0.000216</td>\n",
       "      <td>0.000238</td>\n",
       "      <td>0.000715</td>\n",
       "    </tr>\n",
       "  </tbody>\n",
       "</table>\n",
       "</div>"
      ],
      "text/plain": [
       "symbol      AAPL      AMZN      GOOG      META      NFLX\n",
       "symbol                                                  \n",
       "AAPL    0.000349  0.000202  0.000192  0.000216  0.000206\n",
       "AMZN    0.000202  0.000381  0.000216  0.000235  0.000275\n",
       "GOOG    0.000192  0.000216  0.000288  0.000228  0.000216\n",
       "META    0.000216  0.000235  0.000228  0.000403  0.000238\n",
       "NFLX    0.000206  0.000275  0.000216  0.000238  0.000715"
      ]
     },
     "execution_count": 31,
     "metadata": {},
     "output_type": "execute_result"
    }
   ],
   "source": [
    "# We calculate the covariance matrix\n",
    "cov_matrix=pivot_data.cov()\n",
    "cov_matrix"
   ]
  },
  {
   "cell_type": "code",
   "execution_count": 32,
   "id": "23aee9db-0aaa-410e-bbca-412edf3470b5",
   "metadata": {
    "tags": []
   },
   "outputs": [
    {
     "data": {
      "text/plain": [
       "<Axes: xlabel='symbol', ylabel='symbol'>"
      ]
     },
     "execution_count": 32,
     "metadata": {},
     "output_type": "execute_result"
    },
    {
     "data": {
      "image/png": "[encoded data removed]",
      "text/plain": [
       "<Figure size 2000x2000 with 2 Axes>"
      ]
     },
     "metadata": {},
     "output_type": "display_data"
    }
   ],
   "source": [
    "# We do a heatmap to represent the covariance matrix\n",
    "plt.figure(figsize=(20,20))\n",
    "sns.heatmap(cov_matrix,annot = True, cmap='coolwarm')"
   ]
  },
  {
   "cell_type": "markdown",
   "id": "51e03a4e-2868-45c7-ae97-21e618722bd9",
   "metadata": {},
   "source": [
    "We observe that the covariance between the different stocks are very low"
   ]
  },
  {
   "cell_type": "markdown",
   "id": "7f68fe9a-29f4-430b-ac09-0ff7c9ad57b9",
   "metadata": {},
   "source": [
    "# Question 3\n",
    "- Compute the skewness and excess kurtosis for the returns for each of these stocks. Do the daily stock returns have a Normal distribution?"
   ]
  },
  {
   "cell_type": "code",
   "execution_count": 38,
   "id": "ce10daf1-fd5b-4a54-8e0e-9987096c7b15",
   "metadata": {
    "tags": []
   },
   "outputs": [],
   "source": [
    "from scipy.stats import skew, kurtosis"
   ]
  },
  {
   "cell_type": "code",
   "execution_count": 39,
   "id": "938f198d-1cc1-4fb9-9163-c9415fd41a6f",
   "metadata": {
    "tags": []
   },
   "outputs": [],
   "source": [
    "# We calculate the skewness\n",
    "skewness=(stocks_returns\n",
    "  .groupby(\"symbol\")[\"ret\"].apply(skew))"
   ]
  },
  {
   "cell_type": "code",
   "execution_count": 40,
   "id": "17fd556c-1663-489d-bd58-78678912ca9b",
   "metadata": {
    "tags": []
   },
   "outputs": [
    {
     "data": {
      "text/plain": [
       "symbol\n",
       "AAPL   -0.082901\n",
       "AMZN    0.758752\n",
       "GOOG    0.517319\n",
       "META   -0.329613\n",
       "NFLX    0.681363\n",
       "Name: ret, dtype: float64"
      ]
     },
     "execution_count": 40,
     "metadata": {},
     "output_type": "execute_result"
    }
   ],
   "source": [
    "skewness"
   ]
  },
  {
   "cell_type": "code",
   "execution_count": 41,
   "id": "1de94d51-4297-4c0a-8ddc-cf886b77efd6",
   "metadata": {
    "tags": []
   },
   "outputs": [],
   "source": [
    "# We calculate the Kurtosis\n",
    "kurt=(stocks_returns\n",
    "  .groupby(\"symbol\")[\"ret\"].apply(kurtosis))"
   ]
  },
  {
   "cell_type": "code",
   "execution_count": 42,
   "id": "bfd7432e-0101-4f34-a02a-02335f607d06",
   "metadata": {
    "tags": []
   },
   "outputs": [
    {
     "data": {
      "text/plain": [
       "symbol\n",
       "AAPL     6.584449\n",
       "AMZN     7.171822\n",
       "GOOG    10.394846\n",
       "META    11.997574\n",
       "NFLX     7.322442\n",
       "Name: ret, dtype: float64"
      ]
     },
     "execution_count": 42,
     "metadata": {},
     "output_type": "execute_result"
    }
   ],
   "source": [
    "kurt"
   ]
  },
  {
   "cell_type": "code",
   "execution_count": 43,
   "id": "11db408a-38dd-40dd-b346-87ec6c2a6b6f",
   "metadata": {
    "tags": []
   },
   "outputs": [
    {
     "data": {
      "text/html": [
       "<div>\n",
       "<style scoped>\n",
       "    .dataframe tbody tr th:only-of-type {\n",
       "        vertical-align: middle;\n",
       "    }\n",
       "\n",
       "    .dataframe tbody tr th {\n",
       "        vertical-align: top;\n",
       "    }\n",
       "\n",
       "    .dataframe thead th {\n",
       "        text-align: right;\n",
       "    }\n",
       "</style>\n",
       "<table border=\"1\" class=\"dataframe\">\n",
       "  <thead>\n",
       "    <tr style=\"text-align: right;\">\n",
       "      <th></th>\n",
       "      <th>Mean</th>\n",
       "      <th>STD</th>\n",
       "      <th>Variance</th>\n",
       "      <th>Skewness</th>\n",
       "      <th>Kurtosis</th>\n",
       "      <th>Excess Kurtosis</th>\n",
       "    </tr>\n",
       "    <tr>\n",
       "      <th>Symbol</th>\n",
       "      <th></th>\n",
       "      <th></th>\n",
       "      <th></th>\n",
       "      <th></th>\n",
       "      <th></th>\n",
       "      <th></th>\n",
       "    </tr>\n",
       "  </thead>\n",
       "  <tbody>\n",
       "    <tr>\n",
       "      <th>AAPL</th>\n",
       "      <td>0.001289</td>\n",
       "      <td>0.018671</td>\n",
       "      <td>0.000349</td>\n",
       "      <td>-0.082901</td>\n",
       "      <td>6.584449</td>\n",
       "      <td>3.584449</td>\n",
       "    </tr>\n",
       "    <tr>\n",
       "      <th>AMZN</th>\n",
       "      <td>0.001757</td>\n",
       "      <td>0.019524</td>\n",
       "      <td>0.000381</td>\n",
       "      <td>0.758752</td>\n",
       "      <td>7.171822</td>\n",
       "      <td>4.171822</td>\n",
       "    </tr>\n",
       "    <tr>\n",
       "      <th>GOOG</th>\n",
       "      <td>0.000939</td>\n",
       "      <td>0.016966</td>\n",
       "      <td>0.000288</td>\n",
       "      <td>0.517319</td>\n",
       "      <td>10.394846</td>\n",
       "      <td>7.394846</td>\n",
       "    </tr>\n",
       "    <tr>\n",
       "      <th>META</th>\n",
       "      <td>0.001027</td>\n",
       "      <td>0.020073</td>\n",
       "      <td>0.000403</td>\n",
       "      <td>-0.329613</td>\n",
       "      <td>11.997574</td>\n",
       "      <td>8.997574</td>\n",
       "    </tr>\n",
       "    <tr>\n",
       "      <th>NFLX</th>\n",
       "      <td>0.001914</td>\n",
       "      <td>0.026742</td>\n",
       "      <td>0.000715</td>\n",
       "      <td>0.681363</td>\n",
       "      <td>7.322442</td>\n",
       "      <td>4.322442</td>\n",
       "    </tr>\n",
       "  </tbody>\n",
       "</table>\n",
       "</div>"
      ],
      "text/plain": [
       "            Mean       STD  Variance  Skewness   Kurtosis  Excess Kurtosis\n",
       "Symbol                                                                    \n",
       "AAPL    0.001289  0.018671  0.000349 -0.082901   6.584449         3.584449\n",
       "AMZN    0.001757  0.019524  0.000381  0.758752   7.171822         4.171822\n",
       "GOOG    0.000939  0.016966  0.000288  0.517319  10.394846         7.394846\n",
       "META    0.001027  0.020073  0.000403 -0.329613  11.997574         8.997574\n",
       "NFLX    0.001914  0.026742  0.000715  0.681363   7.322442         4.322442"
      ]
     },
     "execution_count": 43,
     "metadata": {},
     "output_type": "execute_result"
    }
   ],
   "source": [
    "# We update the dataframe\n",
    "df_result['Skewness']=list(skewness)\n",
    "df_result['Kurtosis']=list(kurt)   \n",
    "df_result['Excess Kurtosis']= df_result['Kurtosis']-3\n",
    "df_result=df_result.set_index('Symbol')\n",
    "df_result"
   ]
  },
  {
   "cell_type": "markdown",
   "id": "2343a428-9f55-408a-b548-5f0baf18213c",
   "metadata": {},
   "source": [
    "A normal distribution has a skewness of 0 and an excess kurtosis of 0. It is not our case so this is not a normal distribution"
   ]
  }
 ],
 "metadata": {
  "kernelspec": {
   "display_name": "Python 3 (ipykernel)",
   "language": "python",
   "name": "python3"
  },
  "language_info": {
   "codemirror_mode": {
    "name": "ipython",
    "version": 3
   },
   "file_extension": ".py",
   "mimetype": "text/x-python",
   "name": "python",
   "nbconvert_exporter": "python",
   "pygments_lexer": "ipython3",
   "version": "3.9.18"
  }
 },
 "nbformat": 4,
 "nbformat_minor": 5
}
