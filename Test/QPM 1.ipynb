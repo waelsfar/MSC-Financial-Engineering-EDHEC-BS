{
 "cells": [
  {
   "cell_type": "markdown",
   "id": "4bfd34b5-69ea-4c9d-a81f-cec3c5c06fb3",
   "metadata": {},
   "source": [
    "# Assignment 1"
   ]
  },
  {
   "cell_type": "markdown",
   "id": "56986632-1eae-487d-8304-1727077ca226",
   "metadata": {},
   "source": [
    "# Question 1"
   ]
  },
  {
   "cell_type": "markdown",
   "id": "3f1cf539-902c-4f90-bb20-8ec2dd04aabd",
   "metadata": {},
   "source": [
    "Use Python to generate random annual returns for 100 years for this asset. Compare the annual mean and volatility of returns from your random data to the true 10% mean and 20%."
   ]
  },
  {
   "cell_type": "code",
   "execution_count": 3,
   "id": "480a9b7f-5887-4ec7-8927-70cfad709679",
   "metadata": {
    "tags": []
   },
   "outputs": [],
   "source": [
    "import numpy as np"
   ]
  },
  {
   "cell_type": "code",
   "execution_count": 4,
   "id": "c376a1e8-a863-473b-86b7-94c3bdefedf1",
   "metadata": {
    "tags": []
   },
   "outputs": [],
   "source": [
    "def random_annual_returns(mean_normal : float, volatility_normal: float, nb_years: float):\n",
    "    returns_normal=np.random.normal(mean_normal,volatility_normal,nb_years) #100 values\n",
    "    annual_mean = np.mean(returns_normal) #Calculate the mean\n",
    "    annual_volatility = np.std(returns_normal) #Calculate the volatility\n",
    "    return list((annual_mean, annual_volatility)) #I return the values in a list for a better visibility"
   ]
  },
  {
   "cell_type": "code",
   "execution_count": 9,
   "id": "7ad4e1f3-1eab-478a-b568-aa4942f8cafe",
   "metadata": {
    "tags": []
   },
   "outputs": [
    {
     "data": {
      "text/plain": [
       "[0.10542181469807196, 0.2256480940955922]"
      ]
     },
     "execution_count": 9,
     "metadata": {},
     "output_type": "execute_result"
    }
   ],
   "source": [
    "np.random.seed(123)\n",
    "\n",
    "mean_normal = 0.10\n",
    "volatility_normal = 0.20\n",
    "nb_years = 100\n",
    "L_annual_values=random_annual_returns(mean_normal, volatility_normal, nb_years)\n",
    "L_annual_values"
   ]
  },
  {
   "cell_type": "code",
   "execution_count": 10,
   "id": "89e843cc-bbd2-465e-a715-b84e0aacdf17",
   "metadata": {
    "tags": []
   },
   "outputs": [
    {
     "data": {
      "text/plain": [
       "[5.421814698071959, 12.82404704779609]"
      ]
     },
     "execution_count": 10,
     "metadata": {},
     "output_type": "execute_result"
    }
   ],
   "source": [
    "L_variation=[(L_annual_values[0]-mean_normal)/mean_normal*100,(L_annual_values[1]-volatility_normal)/volatility_normal*100] #Calculate the percentage of variation\n",
    "L_variation"
   ]
  },
  {
   "cell_type": "markdown",
   "id": "c76d0d33-d033-4f83-838d-d3af5b19c6cc",
   "metadata": {},
   "source": [
    "# Conclusion :\n",
    "- We can see that the mean is 5% higher\n",
    "- We can see that the volatility is 13% higher"
   ]
  },
  {
   "cell_type": "markdown",
   "id": "264fcd88-c72b-4b82-920f-157c57721592",
   "metadata": {},
   "source": [
    "# Question 2"
   ]
  },
  {
   "cell_type": "markdown",
   "id": "03668642-a31e-492c-aad1-b00d8c275cba",
   "metadata": {},
   "source": [
    "Now, generate random monthly returns for 100 years for this risky asset. Compare the annual mean and volatility of returns from your random data to the true 10% mean and 20%."
   ]
  },
  {
   "cell_type": "code",
   "execution_count": 11,
   "id": "3a29d90b-76b0-4a8c-b16f-6f4e1565ad91",
   "metadata": {
    "tags": []
   },
   "outputs": [],
   "source": [
    "import numpy as np"
   ]
  },
  {
   "cell_type": "code",
   "execution_count": 19,
   "id": "4009de6b-e6cc-45b0-b759-e5caeac9480b",
   "metadata": {
    "tags": []
   },
   "outputs": [],
   "source": [
    "def random_annual_monthly_returns(mean_normal : float, volatility_normal: float, nb_year : float,nb_months: float):\n",
    "    mean_normal_monthly=mean_normal/nb_months #calculate the monthly mean\n",
    "    volatility_normal=volatility_normal/np.sqrt(nb_months) #calculate the monthly volatility\n",
    "    returns_normal=np.random.normal(mean_normal_monthly,volatility_normal,nb_months*nb_years) # 1200 Values \n",
    "    returns_normal_monthly_annual=returns_normal.reshape(-1,nb_months) # 100 lines and 12 columns , each line corresponds to a year\n",
    "    returns_normal_annual=np.sum(returns_normal_monthly_annual,axis=1)  #sum the columns             \n",
    "    annual_mean = np.mean(returns_normal_annual) #calculate the mean\n",
    "    annual_volatility = np.std(returns_normal_annual) #calculate the volatility\n",
    "    return list((annual_mean,annual_volatility))"
   ]
  },
  {
   "cell_type": "code",
   "execution_count": 20,
   "id": "e7dfc658-4597-404b-81f4-ae391348f50f",
   "metadata": {
    "tags": []
   },
   "outputs": [
    {
     "data": {
      "text/plain": [
       "[0.07886108435472816, 0.20358836159173122]"
      ]
     },
     "execution_count": 20,
     "metadata": {},
     "output_type": "execute_result"
    }
   ],
   "source": [
    "np.random.seed(123)\n",
    "\n",
    "mean_normal = 0.10\n",
    "volatility_normal = 0.20\n",
    "nb_year=100\n",
    "nb_months = 12\n",
    "L_monthly_annual_value=random_annual_monthly_returns(mean_normal, volatility_normal, nb_year, nb_months)\n",
    "L_monthly_annual_value"
   ]
  },
  {
   "cell_type": "code",
   "execution_count": 21,
   "id": "e757271b-1492-4501-881f-5f7b8387c183",
   "metadata": {
    "tags": []
   },
   "outputs": [
    {
     "data": {
      "text/plain": [
       "[-21.138915645271844, 1.794180795865602]"
      ]
     },
     "execution_count": 21,
     "metadata": {},
     "output_type": "execute_result"
    }
   ],
   "source": [
    "L_variation_monthly_annual=[(L_monthly_annual_value[0]-mean_normal)/mean_normal*100,(L_monthly_annual_value[1]-volatility_normal)/volatility_normal*100] #Calculate the percentage of variation\n",
    "L_variation_monthly_annual"
   ]
  },
  {
   "cell_type": "markdown",
   "id": "c3bdd237-d0bc-410c-92cf-b3d5ac447ec6",
   "metadata": {},
   "source": [
    "# Conclusion:\n",
    "- We can see that the mean is 21% lower\n",
    "- We can see that the volatility is 1.8% higher"
   ]
  },
  {
   "cell_type": "markdown",
   "id": "742e35fd-6900-4673-8bab-9bfb4d803586",
   "metadata": {},
   "source": [
    "# Question 3"
   ]
  },
  {
   "cell_type": "markdown",
   "id": "871b3bc8-f463-4c6d-9ff0-b84798d2e495",
   "metadata": {},
   "source": [
    "Finally, generate random daily returns for 100 years for this risky asset. Compare the annual mean and volatility of returns from your random data to the true 10% mean and 20%."
   ]
  },
  {
   "cell_type": "code",
   "execution_count": 22,
   "id": "0cdbd569-a677-4f75-9e1b-dbdf739dc3af",
   "metadata": {
    "tags": []
   },
   "outputs": [],
   "source": [
    "import numpy as np"
   ]
  },
  {
   "cell_type": "code",
   "execution_count": 23,
   "id": "5535c373-6408-46df-8483-2b198a96a4a5",
   "metadata": {
    "tags": []
   },
   "outputs": [],
   "source": [
    "def random_annual_daily_returns(mean_normal : float, volatility_normal: float, nb_year, nb_days: float):\n",
    "    mean_normal_daily=mean_normal/nb_days\n",
    "    volatility_normal_daily=volatility_normal/np.sqrt(nb_days)\n",
    "    returns_normal=np.random.normal(mean_normal_daily,volatility_normal_daily,nb_year*nb_days) # 25200 Values \n",
    "    returns_normal_daily_annual=returns_normal.reshape(-1,nb_days) # 100 lines and 252 columns, each line corresponds to a year\n",
    "    returns_normal_annual=np.sum(returns_normal_daily_annual,axis=1)               \n",
    "    annual_mean = np.mean(returns_normal_annual)\n",
    "    annual_volatility = np.std(returns_normal_annual)\n",
    "    return list((annual_mean,annual_volatility))"
   ]
  },
  {
   "cell_type": "code",
   "execution_count": 24,
   "id": "2f97c901-add0-4877-ad16-81cb1728d420",
   "metadata": {
    "tags": []
   },
   "outputs": [
    {
     "data": {
      "text/plain": [
       "[0.1162987603731596, 0.2364135585285291]"
      ]
     },
     "execution_count": 24,
     "metadata": {},
     "output_type": "execute_result"
    }
   ],
   "source": [
    "np.random.seed(123)\n",
    "initial_price = 100\n",
    "mean_normal = 0.10\n",
    "volatility_normal = 0.20\n",
    "nb_year=100\n",
    "nb_days =252\n",
    "L_daily_annual_value=random_annual_daily_returns(mean_normal, volatility_normal, nb_year, nb_days)\n",
    "L_daily_annual_value"
   ]
  },
  {
   "cell_type": "code",
   "execution_count": 25,
   "id": "ee7349a4-e0f3-43b6-8f54-3ef861a5dde4",
   "metadata": {
    "tags": []
   },
   "outputs": [
    {
     "data": {
      "text/plain": [
       "[16.298760373159595, 18.206779264264547]"
      ]
     },
     "execution_count": 25,
     "metadata": {},
     "output_type": "execute_result"
    }
   ],
   "source": [
    "L_variation_daily_annual=[(L_daily_annual_value[0]-mean_normal)/mean_normal*100,(L_daily_annual_value[1]-volatility_normal)/volatility_normal*100] #Calculate the percentage of variation\n",
    "L_variation_daily_annual"
   ]
  },
  {
   "cell_type": "markdown",
   "id": "9b039f04-8a54-4afe-9ae7-0c06c8d07753",
   "metadata": {},
   "source": [
    "# Conclusion :\n",
    "- We can see that the mean is 16% higher\n",
    "- We can see that the volatility is 18% higher"
   ]
  },
  {
   "cell_type": "markdown",
   "id": "699be5df-3ef2-4232-83c2-fe99e89d11fa",
   "metadata": {},
   "source": [
    "# Question 4"
   ]
  },
  {
   "cell_type": "markdown",
   "id": "ace48f65-2520-463f-b7de-ccc9db463070",
   "metadata": {
    "tags": []
   },
   "source": [
    "What do you conclude from the results of the three previous questions?"
   ]
  },
  {
   "cell_type": "markdown",
   "id": "d6b07ad7-4ceb-4b6d-9c62-7115cd16b1c4",
   "metadata": {},
   "source": [
    "From our analysis of the results of the three questions, I conclude that as we move from daily to monthly and then to annual returns, the estimated mean return approaches the true mean of 10% per year. And It is the same for volaitlity."
   ]
  }
 ],
 "metadata": {
  "kernelspec": {
   "display_name": "Python 3 (ipykernel)",
   "language": "python",
   "name": "python3"
  },
  "language_info": {
   "codemirror_mode": {
    "name": "ipython",
    "version": 3
   },
   "file_extension": ".py",
   "mimetype": "text/x-python",
   "name": "python",
   "nbconvert_exporter": "python",
   "pygments_lexer": "ipython3",
   "version": "3.9.18"
  }
 },
 "nbformat": 4,
 "nbformat_minor": 5
}
