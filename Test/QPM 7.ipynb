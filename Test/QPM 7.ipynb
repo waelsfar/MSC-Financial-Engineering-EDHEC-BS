{
 "cells": [
  {
   "cell_type": "markdown",
   "id": "20d6ffb3-6b97-4f0a-bb4c-ec8f8fb0e2e2",
   "metadata": {},
   "source": [
    "# Downloading Data"
   ]
  },
  {
   "cell_type": "code",
   "execution_count": 1,
   "id": "d5aa1153-3438-4e11-b145-048d5f2c3662",
   "metadata": {
    "tags": []
   },
   "outputs": [],
   "source": [
    "import pandas as pd\n",
    "import numpy as np"
   ]
  },
  {
   "cell_type": "code",
   "execution_count": 1,
   "id": "1a24fb46-0d09-4fe7-b669-cb30e21902b1",
   "metadata": {
    "tags": []
   },
   "outputs": [
    {
     "ename": "NameError",
     "evalue": "name 'pd' is not defined",
     "output_type": "error",
     "traceback": [
      "\u001b[0;31m---------------------------------------------------------------------------\u001b[0m",
      "\u001b[0;31mNameError\u001b[0m                                 Traceback (most recent call last)",
      "Cell \u001b[0;32mIn[1], line 1\u001b[0m\n\u001b[0;32m----> 1\u001b[0m data \u001b[38;5;241m=\u001b[39m pd\u001b[38;5;241m.\u001b[39mread_excel(\u001b[38;5;124m'\u001b[39m\u001b[38;5;124mQPM-FactorsData.xlsx\u001b[39m\u001b[38;5;124m'\u001b[39m)\n\u001b[1;32m      2\u001b[0m data\u001b[38;5;241m=\u001b[39mdata[data[\u001b[38;5;124m\"\u001b[39m\u001b[38;5;124mDates\u001b[39m\u001b[38;5;124m\"\u001b[39m]\u001b[38;5;241m>\u001b[39m\u001b[38;5;241m=\u001b[39m\u001b[38;5;241m197701\u001b[39m]\n\u001b[1;32m      3\u001b[0m data\u001b[38;5;241m=\u001b[39mdata\u001b[38;5;241m.\u001b[39mset_index(\u001b[38;5;124m'\u001b[39m\u001b[38;5;124mDates\u001b[39m\u001b[38;5;124m'\u001b[39m)\n",
      "\u001b[0;31mNameError\u001b[0m: name 'pd' is not defined"
     ]
    }
   ],
   "source": [
    "data = pd.read_excel('QPM-FactorsData.xlsx')\n",
    "data=data[data[\"Dates\"]>=197701]\n",
    "data=data.set_index('Dates')\n",
    "data"
   ]
  },
  {
   "cell_type": "code",
   "execution_count": 4,
   "id": "ed1b9383-27b3-4f7d-a00e-724318cd0248",
   "metadata": {
    "tags": []
   },
   "outputs": [
    {
     "data": {
      "text/plain": [
       "Market    0.002013\n",
       "SMB       0.000901\n",
       "HML       0.000870\n",
       "RMW       0.000519\n",
       "CMA       0.000378\n",
       "UMD       0.001943\n",
       "ROE       0.000667\n",
       "IA        0.000348\n",
       "BAB       0.001266\n",
       "dtype: float64"
      ]
     },
     "execution_count": 4,
     "metadata": {},
     "output_type": "execute_result"
    }
   ],
   "source": [
    "data.var()"
   ]
  },
  {
   "cell_type": "markdown",
   "id": "7338867b-92e5-41bf-8200-b33576d3e462",
   "metadata": {
    "tags": []
   },
   "source": [
    "# Question 1:\n",
    "- Explain why one might expect these nine factors to be related to stock returns. Write only a few sentences (2 or 3 sentences) for each factor. (Feel free to use ChatGPT, but reading the original paper would be much more educational.)"
   ]
  },
  {
   "cell_type": "markdown",
   "id": "e6aa5ad5-7654-403a-9b5f-2c73bcf34517",
   "metadata": {
    "tags": []
   },
   "source": [
    "- Market (M):\n",
    "    - The market factor, often denoted by the return on a broad market index, reflects overall market trends. Positive stock returns are anticipated during bullish market conditions when investors typically seek higher returns amid economic growth.\n",
    "- Size (SMB): \n",
    "    - SMB, representing the Small Minus Big factor, captures the historical trend of small-cap stocks outperforming large-cap stocks. Smaller companies, with more growth potential, tend to excel, especially during economic expansions.\n",
    "- Value (HML): \n",
    "    - HML, or the High Minus Low factor, signifies the historical outperformance of value stocks (high book-to-market ratio) over growth stocks. Investors may expect increased returns from undervalued stocks as the market corrects perceived mispricing.\n",
    "- Profitability (RMW): \n",
    "    - RMW, or the Robust Minus Weak factor, highlights the tendency of profitable companies to outperform less profitable ones. Firms with strong fundamentals become attractive to investors seeking stability and sustained growth.\n",
    "- Conservative Investments (CMA): \n",
    "    - CMA, representing the Conservative Minus Aggressive factor, indicates the historical success of conservative investment strategies. Investors may favor stocks of companies with more prudent financial policies, particularly in uncertain economic conditions.\n",
    "- Momentum (UMD): \n",
    "    - The Momentum factor captures the inclination of stocks that have performed well recently to continue performing well. Investors anticipate that stocks with strong recent performance will maintain momentum due to positive news or market trends.\n",
    "- Return on Equity (ROE): \n",
    "    - ROE reflects a company's profitability and efficiency in using shareholders' equity. Stocks with consistently high ROE are viewed as attractive investments, signaling strong management and the potential for sustained growth.\n",
    "- Investment in Assets (IA): \n",
    "    - The IA factor relates to the historical underperformance of companies with high levels of capital investment. Stocks of firms with more judicious capital allocation strategies are expected to yield higher returns.\n",
    "- Quality (BAB): \n",
    "    - The Betting Against Beta factor suggests that low-beta stocks tend to outperform high-beta stocks. Investors may anticipate higher returns from low-beta stocks, considered less risky, especially during market uncertainties."
   ]
  },
  {
   "cell_type": "markdown",
   "id": "f4f222ba-5be8-40e3-8bb0-da4d50461e17",
   "metadata": {},
   "source": [
    "# Question 2:\n",
    "- Find the optimal θ vector (of dimension 9 × 1) for a mean-variance investor with risk aversion of γ = 5 if the investor can invest in only these nine factors. Use the entire dataset to estimate the nine factors’ mean and covariance of returns (i.e., we do not need to do out-of-sample analysis)."
   ]
  },
  {
   "cell_type": "code",
   "execution_count": 11,
   "id": "6026be62-15af-47b4-8d13-e65b90d5c64a",
   "metadata": {
    "tags": []
   },
   "outputs": [],
   "source": [
    "mu=data.mean()\n",
    "cov_matrix=data.cov()\n",
    "cov_matrix_inverse=np.linalg.inv(cov_matrix)\n",
    "gamma=5"
   ]
  },
  {
   "cell_type": "code",
   "execution_count": 19,
   "id": "a8e199d6-45ca-4a41-ab04-354795616b93",
   "metadata": {
    "tags": []
   },
   "outputs": [
    {
     "data": {
      "text/html": [
       "<div>\n",
       "<style scoped>\n",
       "    .dataframe tbody tr th:only-of-type {\n",
       "        vertical-align: middle;\n",
       "    }\n",
       "\n",
       "    .dataframe tbody tr th {\n",
       "        vertical-align: top;\n",
       "    }\n",
       "\n",
       "    .dataframe thead th {\n",
       "        text-align: right;\n",
       "    }\n",
       "</style>\n",
       "<table border=\"1\" class=\"dataframe\">\n",
       "  <thead>\n",
       "    <tr style=\"text-align: right;\">\n",
       "      <th></th>\n",
       "      <th>Factors</th>\n",
       "      <th>Theta</th>\n",
       "    </tr>\n",
       "  </thead>\n",
       "  <tbody>\n",
       "    <tr>\n",
       "      <th>0</th>\n",
       "      <td>Market</td>\n",
       "      <td>1.106184</td>\n",
       "    </tr>\n",
       "    <tr>\n",
       "      <th>1</th>\n",
       "      <td>SMB</td>\n",
       "      <td>0.955817</td>\n",
       "    </tr>\n",
       "    <tr>\n",
       "      <th>2</th>\n",
       "      <td>HML</td>\n",
       "      <td>-0.155005</td>\n",
       "    </tr>\n",
       "    <tr>\n",
       "      <th>3</th>\n",
       "      <td>RMW</td>\n",
       "      <td>0.207042</td>\n",
       "    </tr>\n",
       "    <tr>\n",
       "      <th>4</th>\n",
       "      <td>CMA</td>\n",
       "      <td>0.153447</td>\n",
       "    </tr>\n",
       "    <tr>\n",
       "      <th>5</th>\n",
       "      <td>UMD</td>\n",
       "      <td>0.216184</td>\n",
       "    </tr>\n",
       "    <tr>\n",
       "      <th>6</th>\n",
       "      <td>ROE</td>\n",
       "      <td>1.773400</td>\n",
       "    </tr>\n",
       "    <tr>\n",
       "      <th>7</th>\n",
       "      <td>IA</td>\n",
       "      <td>2.726123</td>\n",
       "    </tr>\n",
       "    <tr>\n",
       "      <th>8</th>\n",
       "      <td>BAB</td>\n",
       "      <td>0.778341</td>\n",
       "    </tr>\n",
       "  </tbody>\n",
       "</table>\n",
       "</div>"
      ],
      "text/plain": [
       "  Factors     Theta\n",
       "0  Market  1.106184\n",
       "1     SMB  0.955817\n",
       "2     HML -0.155005\n",
       "3     RMW  0.207042\n",
       "4     CMA  0.153447\n",
       "5     UMD  0.216184\n",
       "6     ROE  1.773400\n",
       "7      IA  2.726123\n",
       "8     BAB  0.778341"
      ]
     },
     "execution_count": 19,
     "metadata": {},
     "output_type": "execute_result"
    }
   ],
   "source": [
    "theta=(1/gamma)*cov_matrix_inverse@mu\n",
    "df_result=pd.DataFrame()\n",
    "df_result['Factors']=data.columns\n",
    "df_result['Theta']=theta\n",
    "df_result"
   ]
  },
  {
   "cell_type": "markdown",
   "id": "a186fd79-dcb0-41c1-9bc2-309ac3583fa5",
   "metadata": {
    "tags": []
   },
   "source": [
    "# Question 3:\n",
    "- Find the Sharpe ratio for each of the nine factors and compare it to that of the parametric portfolio you have identified in the previous question."
   ]
  },
  {
   "cell_type": "code",
   "execution_count": 22,
   "id": "5501ee26-9fe3-4347-b6cb-77e5b3f7eee0",
   "metadata": {
    "tags": []
   },
   "outputs": [
    {
     "data": {
      "text/plain": [
       "Market    0.036075\n",
       "SMB       0.016488\n",
       "HML       0.023159\n",
       "RMW       0.035057\n",
       "CMA       0.039821\n",
       "UMD       0.042274\n",
       "ROE       0.057025\n",
       "IA        0.052202\n",
       "BAB       0.074964\n",
       "dtype: float64"
      ]
     },
     "execution_count": 22,
     "metadata": {},
     "output_type": "execute_result"
    }
   ],
   "source": [
    "sharpe_ratio_1=mu/(data.std()*np.sqrt(12))\n",
    "sharpe_ratio_1"
   ]
  },
  {
   "cell_type": "code",
   "execution_count": null,
   "id": "51beb82c-6d5d-4ac8-82c4-dc9cf3ae2f20",
   "metadata": {},
   "outputs": [],
   "source": [
    "sharpe_ratio_2="
   ]
  }
 ],
 "metadata": {
  "kernelspec": {
   "display_name": "Python 3 (ipykernel)",
   "language": "python",
   "name": "python3"
  },
  "language_info": {
   "codemirror_mode": {
    "name": "ipython",
    "version": 3
   },
   "file_extension": ".py",
   "mimetype": "text/x-python",
   "name": "python",
   "nbconvert_exporter": "python",
   "pygments_lexer": "ipython3",
   "version": "3.9.18"
  }
 },
 "nbformat": 4,
 "nbformat_minor": 5
}
